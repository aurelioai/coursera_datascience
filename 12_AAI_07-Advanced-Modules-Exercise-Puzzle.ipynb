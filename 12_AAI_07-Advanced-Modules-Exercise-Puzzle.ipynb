{
 "cells": [
  {
   "cell_type": "markdown",
   "metadata": {},
   "source": [
    "___\n",
    "\n",
    "<a href='https://www.udemy.com/user/joseportilla/'><img src='../../Pierian_Data_Logo.png'/></a>\n",
    "___\n",
    "<center><em>Content Copyright by Pierian Data</em></center>"
   ]
  },
  {
   "cell_type": "markdown",
   "metadata": {},
   "source": [
    "# Advanced Modules Exercise Puzzle\n",
    "\n",
    "It's time to test your new skills, this puzzle project will combine multiple skills sets, including unzipping files with Python, using os module to automatically search through lots of files.\n",
    "\n",
    "## Your Goal\n",
    "\n",
    "This is a puzzle, so we don't want to give you too much guidance and instead have you figure out things on your own.\n",
    "\n",
    "There is a .zip file called 'unzip_me_for_instructions.zip', unzip it, open the .txt file with Python, read the instructions and see if you can figure out what you need to do!\n",
    "\n",
    "**If you get stuck or don't know where to start, here is a [guide/hints](https://docs.google.com/document/d/1JxydUr4n4fSR0EwwuwT-aHia-yPK6r-oTBuVT2sqheo/edit?usp=sharing)**"
   ]
  },
  {
   "cell_type": "code",
   "execution_count": 17,
   "metadata": {},
   "outputs": [],
   "source": [
    "import shutil"
   ]
  },
  {
   "cell_type": "code",
   "execution_count": 18,
   "metadata": {},
   "outputs": [
    {
     "data": {
      "text/plain": [
       "'/Users/aurelio/Google Drive/AAI/CURSOS/UDEMY/PYTHON/NOTEBOOKS_Complete-Python-3-Bootcamp-master/12-Advanced Python Modules/08-Advanced-Python-Module-Exercise'"
      ]
     },
     "execution_count": 18,
     "metadata": {},
     "output_type": "execute_result"
    }
   ],
   "source": [
    "pwd"
   ]
  },
  {
   "cell_type": "code",
   "execution_count": 19,
   "metadata": {},
   "outputs": [
    {
     "name": "stdout",
     "output_type": "stream",
     "text": [
      "/Users/aurelio/Google Drive/AAI/CURSOS/UDEMY/PYTHON/NOTEBOOKS_Complete-Python-3-Bootcamp-master/12-Advanced Python Modules/08-Advanced-Python-Module-Exercise\n"
     ]
    }
   ],
   "source": [
    "import os\n",
    "print(os.getcwd())"
   ]
  },
  {
   "cell_type": "code",
   "execution_count": 20,
   "metadata": {},
   "outputs": [
    {
     "data": {
      "text/plain": [
       "['.DS_Store',\n",
       " '07-Advanced-Modules-Exercise-Puzzle.ipynb',\n",
       " '08-Advanced-Modules-Exercise-Solutions.ipynb',\n",
       " 'AAI_07-Advanced-Modules-Exercise-Puzzle.ipynb',\n",
       " 'unzip_me_for_instructions.zip',\n",
       " '.ipynb_checkpoints']"
      ]
     },
     "execution_count": 20,
     "metadata": {},
     "output_type": "execute_result"
    }
   ],
   "source": [
    "# Equivalent of ls for os\n",
    "os.listdir()"
   ]
  },
  {
   "cell_type": "code",
   "execution_count": 21,
   "metadata": {},
   "outputs": [],
   "source": [
    "# Extracting a zip archive\n",
    "# Notice how the parameter/argument order is slightly different here\n",
    "output_filename = \"unzip_me_for_instructions.zip\"\n",
    "dir_for_extract_result = os.getcwd()+\"/archivos\"\n",
    "shutil.unpack_archive(output_filename,dir_for_extract_result,'zip')"
   ]
  },
  {
   "cell_type": "code",
   "execution_count": 22,
   "metadata": {},
   "outputs": [
    {
     "data": {
      "text/plain": [
       "['.DS_Store',\n",
       " '07-Advanced-Modules-Exercise-Puzzle.ipynb',\n",
       " '08-Advanced-Modules-Exercise-Solutions.ipynb',\n",
       " 'archivos',\n",
       " 'AAI_07-Advanced-Modules-Exercise-Puzzle.ipynb',\n",
       " 'unzip_me_for_instructions.zip',\n",
       " '.ipynb_checkpoints']"
      ]
     },
     "execution_count": 22,
     "metadata": {},
     "output_type": "execute_result"
    }
   ],
   "source": [
    "# Equivalent of ls for os\n",
    "os.listdir()"
   ]
  },
  {
   "cell_type": "code",
   "execution_count": 28,
   "metadata": {},
   "outputs": [
    {
     "name": "stdout",
     "output_type": "stream",
     "text": [
      "Currently looking at folder: archivos\n",
      "\n",
      "\n",
      "THE SUBFOLDERS ARE: \n",
      "\t Subfolder: extracted_content\n",
      "\n",
      "\n",
      "THE FILES ARE: \n",
      "\n",
      "\n",
      "Currently looking at folder: archivos/extracted_content\n",
      "\n",
      "\n",
      "THE SUBFOLDERS ARE: \n",
      "\t Subfolder: Three\n",
      "\t Subfolder: One\n",
      "\t Subfolder: Two\n",
      "\t Subfolder: Five\n",
      "\t Subfolder: Four\n",
      "\n",
      "\n",
      "THE FILES ARE: \n",
      "\t File: Instructions.txt\n",
      "\n",
      "\n",
      "Currently looking at folder: archivos/extracted_content/Three\n",
      "\n",
      "\n",
      "THE SUBFOLDERS ARE: \n",
      "\n",
      "\n",
      "THE FILES ARE: \n",
      "\t File: VSXFSTABZDY.txt\n",
      "\t File: YDQFMWXOUMW.txt\n",
      "\t File: YQBIUHSUEVW.txt\n",
      "\t File: XAJMCPEWFNI.txt\n",
      "\t File: ZXEZRQXZNPG.txt\n",
      "\t File: ZKQJXAYKPVD.txt\n",
      "\t File: XVMPVSVYKFR.txt\n",
      "\t File: XHZPVUQTXIO.txt\n",
      "\t File: YYIZGBTQHZP.txt\n",
      "\t File: VCFJCGJFBIH.txt\n",
      "\t File: VVHFVZUNLOO.txt\n",
      "\t File: VVKGWLRMHLU.txt\n",
      "\t File: XJCWENFFGHB.txt\n",
      "\t File: XFHJOTNPEJG.txt\n",
      "\t File: ZOWVXWPOGWP.txt\n",
      "\t File: ZXIBJMPROKW.txt\n",
      "\t File: VAQIJTDOFUJ.txt\n",
      "\t File: YCESZHJDBXH.txt\n",
      "\t File: YQRNCMNFFHW.txt\n",
      "\t File: ZEZKKRBIZEB.txt\n",
      "\n",
      "\n",
      "Currently looking at folder: archivos/extracted_content/One\n",
      "\n",
      "\n",
      "THE SUBFOLDERS ARE: \n",
      "\n",
      "\n",
      "THE FILES ARE: \n",
      "\t File: LFEATJAAYDC.txt\n",
      "\t File: KCXGNQCZBLO.txt\n",
      "\t File: KFIUZFERLET.txt\n",
      "\t File: LIFDHOFKWOI.txt\n",
      "\t File: HRQFTHKVJTL.txt\n",
      "\t File: PLYCGPVEAWO.txt\n",
      "\t File: JEHBLZPUPSP.txt\n",
      "\t File: PDJMSMNKIRM.txt\n",
      "\t File: LPNDVDXPZIG.txt\n",
      "\t File: HMNZTLIFGPD.txt\n",
      "\t File: KNBSKDREHQU.txt\n",
      "\t File: KTXDHIOKAUI.txt\n",
      "\t File: JQUOBKFUACN.txt\n",
      "\t File: HFUTPPAXDIS.txt\n",
      "\t File: PTOBBCJYURJ.txt\n",
      "\t File: LHODFIKVTQA.txt\n",
      "\t File: JLTXKIGCWDL.txt\n",
      "\t File: HDOHZHFSTTK.txt\n",
      "\t File: KMMLGJOWLGI.txt\n",
      "\t File: JDLRVFCXYLU.txt\n",
      "\t File: PHWAVPEKAER.txt\n",
      "\t File: LDGOCUQJNNS.txt\n",
      "\t File: JTHSNBNPQSE.txt\n",
      "\t File: HVUTZEVMSBW.txt\n",
      "\t File: PQNVCVJINAR.txt\n",
      "\n",
      "\n",
      "Currently looking at folder: archivos/extracted_content/Two\n",
      "\n",
      "\n",
      "THE SUBFOLDERS ARE: \n",
      "\n",
      "\n",
      "THE FILES ARE: \n",
      "\t File: HEORIXOTANT.txt\n",
      "\t File: SOFUJYXTIMK.txt\n",
      "\t File: HMZXPBOPRAE.txt\n",
      "\t File: OMWIMVRCMYM.txt\n",
      "\t File: OHZOUOSFJQC.txt\n",
      "\t File: OKWFOOYTXFU.txt\n",
      "\t File: LVMBINRBJXL.txt\n",
      "\t File: LSQSTGPIGIY.txt\n",
      "\t File: OIHMLGMWTHL.txt\n",
      "\t File: GQTJJORZBXY.txt\n",
      "\t File: HARDNJGDRBC.txt\n",
      "\t File: OYMAGXAGWHJ.txt\n",
      "\t File: HMUTDOVNYTV.txt\n",
      "\t File: LYZEQCVYNEZ.txt\n",
      "\t File: GMMQQUBMJNR.txt\n",
      "\t File: GTOTCIWMDBY.txt\n",
      "\t File: LULTNYAQEJG.txt\n",
      "\t File: HTOHSTYXTCO.txt\n",
      "\t File: SJMJLDGPBSJ.txt\n",
      "\t File: LCJZYDHBFRM.txt\n",
      "\t File: SPDZYGDHEWO.txt\n",
      "\t File: SIKFPPLCJDN.txt\n",
      "\t File: GXYSEPAFRTP.txt\n",
      "\t File: SWOFXREEHWA.txt\n",
      "\t File: GKQBQRCTNNK.txt\n",
      "\n",
      "\n",
      "Currently looking at folder: archivos/extracted_content/Five\n",
      "\n",
      "\n",
      "THE SUBFOLDERS ARE: \n",
      "\n",
      "\n",
      "THE FILES ARE: \n",
      "\t File: ESIZWBHMGDP.txt\n",
      "\t File: BUGKBZWRRVI.txt\n",
      "\t File: ARLKFCWIAJE.txt\n",
      "\t File: EYTCGIOYWIW.txt\n",
      "\t File: APJKSRITGGX.txt\n",
      "\t File: AXJGVPVEFAS.txt\n",
      "\t File: CSCLFZCDYYC.txt\n",
      "\t File: CAHBEVSVDDN.txt\n",
      "\t File: BVBURZZCAPR.txt\n",
      "\t File: ETCUEXWNBCF.txt\n",
      "\t File: CRFSDGYFSHA.txt\n",
      "\t File: DYOPIIVMZOO.txt\n",
      "\t File: DDLASODUVPX.txt\n",
      "\t File: CXBVCTRBBIE.txt\n",
      "\t File: COMGMZBJAYE.txt\n",
      "\t File: EAAOEPSAWMQ.txt\n",
      "\t File: DZUWWXYIAEL.txt\n",
      "\t File: EIPWXMQZJKU.txt\n",
      "\t File: DHZBAAYEADM.txt\n",
      "\t File: BSKJDRNEZQM.txt\n",
      "\t File: AQKATDFGXTS.txt\n",
      "\t File: BTYWAHLHKBM.txt\n",
      "\t File: AEITMYIRQLP.txt\n",
      "\t File: BNUQEHCFRTG.txt\n",
      "\t File: DQPZQLBCJYP.txt\n",
      "\n",
      "\n",
      "Currently looking at folder: archivos/extracted_content/Four\n",
      "\n",
      "\n",
      "THE SUBFOLDERS ARE: \n",
      "\n",
      "\n",
      "THE FILES ARE: \n",
      "\t File: WHTOHQUWXIN.txt\n",
      "\t File: QDDETWBHJYC.txt\n",
      "\t File: WNJISWPEBRS.txt\n",
      "\t File: WFSKPTXPFCH.txt\n",
      "\t File: EMTGPSXQEJX.txt\n",
      "\t File: TWUOYFCCYBQ.txt\n",
      "\t File: QTDYYIFPHAU.txt\n",
      "\t File: TAKNAVDMZKV.txt\n",
      "\t File: RYNXFYXMKHG.txt\n",
      "\t File: ROICPTWKXDX.txt\n",
      "\t File: QCWCFLKNZMN.txt\n",
      "\t File: EXVQSVBQQQH.txt\n",
      "\t File: THPNEGKTJWI.txt\n",
      "\t File: TJFMLJODVAD.txt\n",
      "\t File: QCTCKDIBBVG.txt\n",
      "\t File: TKCZSFQNJTX.txt\n",
      "\t File: WXDJDOGZEHN.txt\n",
      "\t File: QVNJULGXNUM.txt\n",
      "\t File: RSXOTNGKBML.txt\n",
      "\t File: EPRNUHRSESC.txt\n",
      "\t File: ECIOBYCDVFI.txt\n",
      "\t File: RXDARIDGKBF.txt\n",
      "\t File: REAXWSOIQDY.txt\n",
      "\t File: WYDLGSGGXKV.txt\n",
      "\t File: ESDIZXHYCVY.txt\n",
      "\n",
      "\n"
     ]
    }
   ],
   "source": [
    "# Looking at the tree below me\n",
    "\n",
    "for folder , sub_folders , files in os.walk(\"archivos\"):\n",
    "# The argument of os.walk() must be an existint directory in my os.getcwd() or an absolut path\n",
    "\n",
    "    print(\"Currently looking at folder: \"+ folder)\n",
    "    print('\\n')\n",
    "    print(\"THE SUBFOLDERS ARE: \")\n",
    "    for sub_fold in sub_folders:\n",
    "        print(\"\\t Subfolder: \"+sub_fold )\n",
    "    \n",
    "    print('\\n')\n",
    "    \n",
    "    print(\"THE FILES ARE: \")\n",
    "    for f in files:\n",
    "        print(\"\\t File: \"+f)\n",
    "    print('\\n')"
   ]
  },
  {
   "cell_type": "code",
   "execution_count": 36,
   "metadata": {},
   "outputs": [
    {
     "name": "stdout",
     "output_type": "stream",
     "text": [
      "['archivos/extracted_content/Instructions.txt']\n"
     ]
    }
   ],
   "source": [
    "# Looking for the instructions file\n",
    "# This code finds all matches with a specific file name\n",
    "def find_all(name, path):\n",
    "    result = []\n",
    "    for root, dirs, files in os.walk(path):\n",
    "        if name in files:\n",
    "            result.append(os.path.join(root, name))\n",
    "    return result\n",
    "\n",
    "instrucciones = find_all(\"Instructions.txt\",\"archivos\")\n",
    "print(instrucciones)"
   ]
  },
  {
   "cell_type": "code",
   "execution_count": 37,
   "metadata": {},
   "outputs": [
    {
     "name": "stdout",
     "output_type": "stream",
     "text": [
      "['archivos/extracted_content/Instructions.txt']\n"
     ]
    }
   ],
   "source": [
    "# Code to find patterns\n",
    "import os, fnmatch\n",
    "def find(pattern, path):\n",
    "    result = []\n",
    "    for root, dirs, files in os.walk(path):\n",
    "        for name in files:\n",
    "            if fnmatch.fnmatch(name, pattern):\n",
    "                result.append(os.path.join(root, name))\n",
    "    return result\n",
    "\n",
    "instrucciones = find('*nstruc*', 'archivos')\n",
    "print(instrucciones)"
   ]
  },
  {
   "cell_type": "code",
   "execution_count": 85,
   "metadata": {},
   "outputs": [
    {
     "name": "stdout",
     "output_type": "stream",
     "text": [
      "Good work on unzipping the file!\n",
      "You should now see 5 folders, each with a lot of random .txt files.\n",
      "Within one of these text files is a telephone number formated ###-###-#### \n",
      "Use the Python os module and regular expressions to iterate through each file, open it, and search for a telephone number.\n",
      "Good luck!\n"
     ]
    }
   ],
   "source": [
    "# Read the instructions file\n",
    "with open(instrucciones[0]) as f:\n",
    "    content = f.read()\n",
    "    print(content)"
   ]
  },
  {
   "cell_type": "code",
   "execution_count": 82,
   "metadata": {},
   "outputs": [
    {
     "name": "stdout",
     "output_type": "stream",
     "text": [
      "Found a match:  719-266-2837\n"
     ]
    }
   ],
   "source": [
    "# Copy-pasted \"Code to find patterns\" and using that to search for phone number.\n",
    "# Phone number is in format ###-###-####\n",
    "# Code to find file by patterns\n",
    "import os, fnmatch\n",
    "def find(pattern, path):\n",
    "    result = []\n",
    "    for root, dirs, files in os.walk(path):\n",
    "        for name in files:\n",
    "            if fnmatch.fnmatch(name, pattern):\n",
    "                result.append(os.path.join(root, name))\n",
    "    return result\n",
    "archivos = find('*.txt', 'archivos')\n",
    "\n",
    "# Regular expression search\n",
    "import re\n",
    "phone_pattern = re.compile(r'(\\d{3})-(\\d{3})-(\\d{4})')\n",
    "found = []\n",
    "# Look in every file in archivos\n",
    "for file in archivos:\n",
    "# Open file\n",
    "    f = open(file, \"r\")\n",
    "# Read lines of f, put them in a list\n",
    "    lines = f.readlines()\n",
    "# Check line by line\n",
    "    for line in lines:\n",
    "        x = re.search(phone_pattern,line)\n",
    "        if type(x) != type(None):\n",
    "            print(\"Found a match: \",x.group())\n",
    "            found.append(x)\n",
    "    f.close()"
   ]
  },
  {
   "cell_type": "code",
   "execution_count": 63,
   "metadata": {},
   "outputs": [
    {
     "name": "stdout",
     "output_type": "stream",
     "text": [
      "None\n"
     ]
    }
   ],
   "source": [
    "print(x)"
   ]
  },
  {
   "cell_type": "code",
   "execution_count": null,
   "metadata": {},
   "outputs": [],
   "source": []
  }
 ],
 "metadata": {
  "anaconda-cloud": {},
  "kernelspec": {
   "display_name": "Python 3",
   "language": "python",
   "name": "python3"
  },
  "language_info": {
   "codemirror_mode": {
    "name": "ipython",
    "version": 3
   },
   "file_extension": ".py",
   "mimetype": "text/x-python",
   "name": "python",
   "nbconvert_exporter": "python",
   "pygments_lexer": "ipython3",
   "version": "3.7.7"
  }
 },
 "nbformat": 4,
 "nbformat_minor": 2
}
